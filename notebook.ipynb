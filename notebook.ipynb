{
 "cells": [
  {
   "cell_type": "code",
   "execution_count": null,
   "metadata": {},
   "outputs": [],
   "source": [
    "import torch\n",
    "import torchvision\n",
    "import torch.nn as nn\n",
    "from torchvision import transforms\n",
    "import matplotlib.pyplot as plt\n",
    "import numpy as np\n",
    "import torch.nn.functional as F"
   ]
  },
  {
   "attachments": {},
   "cell_type": "markdown",
   "metadata": {},
   "source": [
    "# Exploring Dataset and Preprocessing"
   ]
  },
  {
   "attachments": {},
   "cell_type": "markdown",
   "metadata": {},
   "source": [
    "The dataset contains a total of 2872 images which have been resized to be 64 by 64. In addition images are converted to tensor form and have shape [3, 64, 64]\n",
    "\n",
    "The dataset is passed through a dataloader to sample batches from."
   ]
  },
  {
   "cell_type": "code",
   "execution_count": null,
   "metadata": {},
   "outputs": [],
   "source": [
    "path = \"gallery\"\n",
    "batch_size = 32\n",
    "image_size = (64, 64)\n",
    "device = torch.device(\"cpu\")\n",
    "img_transforms = transforms.Compose([\n",
    "    transforms.Resize(image_size),\n",
    "    transforms.ToTensor(),\n",
    "    ])\n",
    "\n",
    "dataset = torchvision.datasets.ImageFolder(root=path, transform=img_transforms)\n",
    "dataloader = torch.utils.data.DataLoader(dataset, batch_size=batch_size)\n",
    "\n",
    "dataset\n",
    "\n",
    "\n"
   ]
  },
  {
   "attachments": {},
   "cell_type": "markdown",
   "metadata": {},
   "source": [
    "len(data) = 2\n",
    "\n",
    "data[0].shape = torch.Size([32, 3, 40, 40])\n",
    "\n",
    "data[1].shape = torch.Size([32])"
   ]
  },
  {
   "cell_type": "code",
   "execution_count": null,
   "metadata": {},
   "outputs": [],
   "source": [
    "# showing the first 3 batches\n",
    "for batch, data in enumerate(dataloader):\n",
    "    plt.figure(figsize=(5,5))\n",
    "    plt.imshow(np.transpose(torchvision.utils.make_grid(data[0].to(device)).cpu(),(1,2,0)))\n",
    "    \n",
    "    if batch == 2: break\n",
    "    "
   ]
  },
  {
   "attachments": {},
   "cell_type": "markdown",
   "metadata": {},
   "source": [
    "# Model and Training"
   ]
  },
  {
   "attachments": {},
   "cell_type": "markdown",
   "metadata": {},
   "source": [
    "## GAN Model\n",
    "The [Generative Adversarial Net](https://arxiv.org/abs/1406.2661) consists of a **generative model** that aims to capture the data distribution and **discriminative model** which estimates the probability that a sample game from the dataset rather than from the generative model. \n",
    "\n",
    "As the generator is \"generating\" data then the output shape should be [3, 64, 64] as is the ungenerated data. \n",
    "\n",
    "On the other hand, as the discriminator is determining whether or not the data is from the dataset or generated then it should ouput a one-hot encoded vector (e.g. [0, 1])."
   ]
  },
  {
   "cell_type": "code",
   "execution_count": null,
   "metadata": {},
   "outputs": [],
   "source": [
    "class Generator(nn.Module):\n",
    "    def __init__(self):\n",
    "        super(Generator, self).__init__()\n",
    "        self.conv1 = nn.Conv2d(in_channels=1, out_channels=64, kernel_size=3, padding=1)\n",
    "        self.bn1 = nn.BatchNorm2d(64)\n",
    "        \n",
    "        self.conv2 = nn.Conv2d(64, 128, 3, 1)\n",
    "        self.bn2 = nn.BatchNorm2d(128)\n",
    "        \n",
    "        self.conv3 = nn.Conv2d(128, 512, 3, 1)\n",
    "        self.bn3 = nn.BatchNorm2d(512)\n",
    "        \n",
    "    def forward(self, x):\n",
    "        out = nn.LeakyReLU(self.bn1(self.conv1a(x)))\n",
    "        out = nn.LeakyReLU(self.bn2(self.conv2(out)))\n",
    "        out = nn.LeakyReLU(self.bn3(self.conv3(out)))\n",
    "        return out\n",
    "        \n",
    "class Discriminator(nn.Module):\n",
    "    def __init__(self):\n",
    "        super(Discriminator, self).__init__()\n",
    "        self.conv1 = nn.Conv2d(in_channels=1, out_channels=64, kernel_size=3, padding=1)\n",
    "        self.bn1 = nn.BatchNorm2d(64)\n",
    "        \n",
    "        self.conv2 = nn.Conv2d(64, 128, 3, 1)\n",
    "        self.bn2 = nn.BatchNorm2d(128)\n",
    "        \n",
    "        self.drop = nn.Dropout(p=0.2)\n",
    "        \n",
    "        self.lin1 = nn.Linear(128, 64)\n",
    "        self.lin2 = nn.Linear(64, 1)\n",
    "        \n",
    "    def forward(self, x):\n",
    "        out = nn.LeakyReLU(self.bn1(self.conv1a(x)))\n",
    "        out = nn.LeakyReLU(self.bn2(self.conv2(out)))\n",
    "        out = self.drop(out)                   \n",
    "        out = self.lin2(self.lin1(out))\n",
    "        return out\n",
    "          \n",
    "        "
   ]
  },
  {
   "attachments": {},
   "cell_type": "markdown",
   "metadata": {},
   "source": [
    "## Training \n",
    "Ultimately we want to update the discriminator to maximize \n",
    "$$log(D(x)) + log(1 - D(G(z)))$$\n",
    "\n",
    "For the generator, we want to minimize \n",
    "$$log(1 - D(G(z)))$$"
   ]
  },
  {
   "cell_type": "code",
   "execution_count": null,
   "metadata": {},
   "outputs": [],
   "source": [
    "generator = Generator()\n",
    "discriminator = Discriminator()\n",
    "optimizerG = torch.optim.Adam(G.parameters(), lr=1e-4)\n",
    "optimizerD = torch.optim.Adam(D.parameters(), lr=1e-4)\n",
    "\n",
    "epochs = 200\n",
    "criterion = nn.BCELoss()\n",
    "lossesG = []\n",
    "lossesD = []\n",
    "generated_images = []"
   ]
  },
  {
   "cell_type": "code",
   "execution_count": null,
   "metadata": {},
   "outputs": [],
   "source": [
    "for i in range(epochs):\n",
    "    for batch, data in enumerate(dataloader):\n",
    "        real_cpu = data[0].to(device)\n",
    "        b_size = real_cpu.size(0)\n",
    "    \n",
    "    # ----- train discriminator ----- #\n",
    "        discriminator.zero_grad()\n",
    "        output = discriminator()    \n",
    "    \n",
    "    # ----- train generator ----- #\n",
    "        generator.zero_grad()\n",
    "        generated_image = generator(torch.randn(real_cpu.size(0), latent_size, 1, 1, device=device)) # feeding noise\n",
    "        output = discriminator(generated_image)\n",
    "        targets = torch.ones(generated_image.size(0), 1, device=device)\n",
    "        loss_G = criterion(output, targets)\n",
    "    \n",
    "    \n",
    "    \n",
    "    lossesG.append(loss_G)\n",
    "    if i % 10:\n",
    "        print(f\"Epoch: {i}, discriminator loss, generator loss\")\n",
    "    break"
   ]
  }
 ],
 "metadata": {
  "kernelspec": {
   "display_name": "Python 3",
   "language": "python",
   "name": "python3"
  },
  "language_info": {
   "codemirror_mode": {
    "name": "ipython",
    "version": 3
   },
   "file_extension": ".py",
   "mimetype": "text/x-python",
   "name": "python",
   "nbconvert_exporter": "python",
   "pygments_lexer": "ipython3",
   "version": "3.10.2"
  },
  "orig_nbformat": 4,
  "vscode": {
   "interpreter": {
    "hash": "aee8b7b246df8f9039afb4144a1f6fd8d2ca17a180786b69acc140d282b71a49"
   }
  }
 },
 "nbformat": 4,
 "nbformat_minor": 2
}
